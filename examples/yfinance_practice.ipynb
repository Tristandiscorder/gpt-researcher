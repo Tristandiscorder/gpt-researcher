{
 "cells": [
  {
   "cell_type": "markdown",
   "metadata": {},
   "source": [
    "# Yfinance_Usecase \n",
    "- developing python definition funneled into langchain tool thus to be selected  "
   ]
  },
  {
   "cell_type": "code",
   "execution_count": 33,
   "metadata": {},
   "outputs": [],
   "source": [
    "from typing import Type\n",
    "from langchain.llms import OpenAI\n",
    "from langchain.tools import BaseTool\n",
    "from pydantic import BaseModel, Field\n",
    "\n",
    "from datetime import datetime, timedelta\n",
    "\n",
    "import yfinance as yf"
   ]
  },
  {
   "cell_type": "code",
   "execution_count": 34,
   "metadata": {},
   "outputs": [],
   "source": [
    "def get_current_stock_price(ticker):\n",
    "    \"\"\"Method to get current stock price\"\"\"\n",
    "\n",
    "    ticker_data = yf.Ticker(ticker)\n",
    "    recent = ticker_data.history(period=\"6m\")\n",
    "    return {\"price\": recent.iloc[0][\"Close\"], \\\n",
    "            #\"currency\": ticker_data.info[\"currency\"]\n",
    "            }\n",
    "\n",
    "\n",
    "def get_stock_performance(ticker, past_date):\n",
    "    \"\"\"Method to get stock price change in percentage\"\"\"\n",
    "    past_date = datetime.strptime(past_date, '%Y-%m-%d')\n",
    "    ticker_data = yf.Ticker(ticker)\n",
    "    history = ticker_data.history(start=past_date)\n",
    "    old_price = history.iloc[0][\"Close\"]\n",
    "    current_price = history.iloc[-1][\"Close\"]\n",
    "    return {\"percent_change\": ((current_price - old_price) / old_price) * 100}\n",
    "\n",
    "class CurrentStockPriceInput(BaseModel):\n",
    "    \"\"\"Inputs for get_current_stock_price\"\"\"\n",
    "\n",
    "    ticker: str = Field(description=\"Ticker symbol of the stock\")\n",
    "\n",
    "\n",
    "class CurrentStockPriceTool(BaseTool):\n",
    "    name = \"get_current_stock_price\"\n",
    "    description = \"\"\"\n",
    "        Useful when you want to get current stock price.\n",
    "        You should enter the stock ticker symbol recognized by the yahoo finance\n",
    "        \"\"\"\n",
    "    args_schema: Type[BaseModel] = CurrentStockPriceInput\n",
    "\n",
    "    def _run(self, ticker: str):\n",
    "        price_response = get_current_stock_price(ticker)\n",
    "        return price_response\n",
    "\n",
    "    def _arun(self, ticker: str):\n",
    "        raise NotImplementedError(\"get_current_stock_price does not support async\")\n",
    "\n"
   ]
  },
  {
   "cell_type": "code",
   "execution_count": 35,
   "metadata": {},
   "outputs": [],
   "source": [
    "class StockPerformanceInput(BaseModel):\n",
    "    \"\"\"Inputs for get_stock_performance\"\"\"\n",
    "\n",
    "    ticker: str = Field(description=\"Ticker symbol of the stock\")\n",
    "    past_date: str = Field(description=\"date in which stock price to be compared\")\n",
    "\n",
    "\n",
    "class StockPerformanceTool(BaseTool):\n",
    "    name = \"get_stock_performance\"\n",
    "    description = \"\"\"\n",
    "        Useful when you want to get the stock performance over the given period.\n",
    "        You should enter the stock ticker symbol recognized by the yahoo finance\n",
    "        \"\"\"\n",
    "    args_schema: Type[BaseModel] = StockPerformanceInput\n",
    "\n",
    "    def _run(self, ticker: str , past_date: str):\n",
    "        performance_response = get_stock_performance(ticker,past_date)\n",
    "        return performance_response\n",
    "\n",
    "    def _arun(self, ticker: str):\n",
    "        raise NotImplementedError(\"get_stock_performance does not support async\")"
   ]
  },
  {
   "cell_type": "code",
   "execution_count": 36,
   "metadata": {},
   "outputs": [],
   "source": [
    "from langchain.agents import AgentType, initialize_agent, Tool\n",
    "from langchain.chat_models import ChatOpenAI\n",
    "from langchain.llms import OpenAI\n",
    "from langchain.tools.tavily_search import TavilySearchResults\n",
    "from langchain.utilities.tavily_search import TavilySearchAPIWrapper"
   ]
  },
  {
   "cell_type": "code",
   "execution_count": 37,
   "metadata": {},
   "outputs": [
    {
     "data": {
      "text/plain": [
       "True"
      ]
     },
     "execution_count": 37,
     "metadata": {},
     "output_type": "execute_result"
    }
   ],
   "source": [
    "from dotenv import load_dotenv\n",
    "load_dotenv()"
   ]
  },
  {
   "cell_type": "code",
   "execution_count": 42,
   "metadata": {},
   "outputs": [
    {
     "name": "stdout",
     "output_type": "stream",
     "text": [
      "\n",
      "\n",
      "\u001b[1m> Entering new AgentExecutor chain...\u001b[0m\n",
      "\u001b[32;1m\u001b[1;3mThought: First, I need to find the latest trading day stock price of Ecopro(KOSDAQ). I will use the get_current_stock_price tool for this. \n",
      "Action:\n",
      "```\n",
      "{\n",
      "  \"action\": \"get_current_stock_price\",\n",
      "  \"action_input\": {\n",
      "    \"ticker\": \"086520.KQ\"\n",
      "  }\n",
      "}\n",
      "```\u001b[0m\n",
      "Observation: \u001b[36;1m\u001b[1;3m{'price': 667000.0}\u001b[0m\n",
      "Thought:\u001b[32;1m\u001b[1;3mThe latest trading day stock price of Ecopro(KOSDAQ) is 667000.0. Now, I need to find the date in which Korea totally banned short-selling. I will use the tavily_search_results_json tool for this. I will search for \"Korea short-selling ban date\". \n",
      "Action:\n",
      "```\n",
      "{\n",
      "  \"action\": \"tavily_search_results_json\",\n",
      "  \"action_input\": {\n",
      "    \"query\": \"Korea short-selling ban date\"\n",
      "  }\n",
      "}\n",
      "```\u001b[0m\n",
      "Observation: \u001b[38;5;200m\u001b[1;3m[{'url': 'https://www.investopedia.com/how-does-south-koreas-short-selling-ban-affect-us-investors-8391133', 'content': 'Citing instances of illegal “naked” short selling, South Korea banned short selling through June 2024  How Does South Korea\\'s Short Selling Ban Affect US Investors?  The South Korean Financial Services Commission said that it had found a number of cases of illegal naked short selling  from markets with short-selling bans.South Korean regulators banned short-selling in stocks through June 2024 Ban is in place after regulators found \"routine\" abuse of so-called naked short selling from foreign and...'}, {'url': 'https://www.koreatimes.co.kr/www/biz/2023/11/488_362603.html', 'content': 'Financial authorities in Korea announced on Sunday a complete ban on short selling from Monday until the end of June  So far, the ban on short selling has been partial, allowing the shorting of major stocks included in the KOSPI 200  stock market due to repeated illegal naked short selling by global institutional investors in the Korean stock market,\"  Although shorting is a legitimate investment strategy, there has long been a public outcry over the practice in Korea,Financial authorities in Korea announced on Sunday a complete ban on short selling from Monday until the end of June next year. The temporary ban was announced after financial authorities...'}, {'url': 'https://www.bloomberg.com/news/articles/2023-11-16/south-korea-may-extend-short-selling-ban-if-reforms-not-enough', 'content': \"Korea Mulls Years-Long Trading Ban on Illegal Short Sellers The Korea Exchange (KRX) in Seoul.  South Korea is considering several options to penalize illegal short sellers, including banning them from stock trading  from serving as executives at listed companies and financial firms in Korea, the Financial Supervisory Service said  Service said Thursday. The government may also extend a ban on all short selling beyond June next year if reformListen 2:26 South Korea is considering several options to penalize illegal short sellers, including banning them from stock trading for up to 10 years, the country's financial regulators said.\"}]\u001b[0m\n",
      "Thought:\u001b[32;1m\u001b[1;3mThe articles suggest that South Korea banned short selling until June 2024, but they do not provide a specific date for when the ban started. I will perform another search to try to find the exact date. \n",
      "Action:\n",
      "```\n",
      "{\n",
      "  \"action\": \"tavily_search_results_json\",\n",
      "  \"action_input\": {\n",
      "    \"query\": \"Korea short-selling ban start date\"\n",
      "  }\n",
      "}\n",
      "```\u001b[0m\n",
      "Observation: \u001b[38;5;200m\u001b[1;3m[{'url': 'https://www.investopedia.com/how-does-south-koreas-short-selling-ban-affect-us-investors-8391133', 'content': \"How Does South Korea's Short Selling Ban Affect US Investors?  Citing instances of illegal “naked” short selling, South Korea banned short selling through June 2024  The South Korean Financial Services Commission said that it had found a number of cases of illegal naked short selling  Bloomberg. “South Korea Plans to Fine Two Global Investment Banks for Naked Short Selling.”Nov 7, 2023 — Nov 7, 2023South Korean regulators banned short-selling in stocks through June 2024 · Ban is in place after regulators found “routine” abuse of so-called\\xa0...\"}, {'url': 'https://www.livemint.com/market/south-korea-to-reinstates-ban-on-short-selling-of-stocks-until-june-2024-to-level-playing-field-11699230890691.html', 'content': \"South Korea to reinstate stock short-selling ban until June 2024 to 'level playing field'  South Korea will re-instate ban on short-selling shares until June to promote a level playing field for investors.  South Korea to developed-market status, as reported by Reuters.  them or determining they can be borrowed - is banned in South Korea.Nov 6, 2023 — Nov 6, 2023South Korea will re-instate ban on short-selling shares until June to promote a level playing field for investors.\"}, {'url': 'https://www.bloomberg.com/news/articles/2023-11-16/south-korea-may-extend-short-selling-ban-if-reforms-not-enough', 'content': 'Korea Mulls Years-Long Trading Ban on Illegal Short Sellers The Korea Exchange (KRX) in Seoul.  South Korea is considering several options to penalize illegal short sellers, including banning them from stock trading  from serving as executives at listed companies and financial firms in Korea, the Financial Supervisory Service said  Service said Thursday. The government may also extend a ban on all short selling beyond June next year if reformNov 16, 2023 — Nov 16, 2023South Korea is considering several options to penalize illegal short sellers, including banning them from stock trading for up to 10 years,\\xa0...'}, {'url': 'https://www.bloomberg.com/news/articles/2023-11-05/south-korea-to-ban-short-selling-of-stocks-until-june-next-year', 'content': 'South Korea to Ban Short-Selling of Stocks Until June 2024  Trading with borrowed shares, an essential component of short selling, will be banned for companies in the Kospi 200  in the Kospi 200 Index and Kosdaq 150 Index from Monday until the end of June, the commission said on Sunday.  South Korea will prohibit stock short-selling until June 2024 to allow regulators to “actively” improve rules andNov 5, 2023 — Nov 5, 2023WATCH: South Korea is banning short-selling of stocks from Monday until June 2024. Youkyung Lee reports. Lee Bokhyun, governor of the Financial\\xa0...'}, {'url': 'https://www.bloomberg.com/news/articles/2023-12-01/korea-defends-short-sale-ban-saying-illegal-trading-is-rampant', 'content': 'Korea Defends Short-Sale Ban Saying Illegal Trading Is ‘Rampant’  A South Korean regulator defended its decision to temporarily ban stock short-selling as necessary to stop unlawful  to stop unlawful trading, even amid criticism that the move has hurt the market’s appeal among global investors.  Financial Services Commission, said in a rare briefing for foreign media Friday.Nov 30, 2023 — Nov 30, 2023A South Korean regulator defended its decision to temporarily ban stock short-selling as necessary to stop unlawful trading,\\xa0...'}]\u001b[0m\n",
      "Thought:\u001b[32;1m\u001b[1;3mThe articles suggest that South Korea banned short selling starting from November 5, 2023. Now, I need to find the performance of Ecopro(KOSDAQ) since the ban. I will use the get_stock_performance tool for this. \n",
      "Action:\n",
      "```\n",
      "{\n",
      "  \"action\": \"get_stock_performance\",\n",
      "  \"action_input\": {\n",
      "    \"ticker\": \"086520.KQ\",\n",
      "    \"past_date\": \"2023-11-05\"\n",
      "  }\n",
      "}\n",
      "```\u001b[0m\n",
      "Observation: \u001b[33;1m\u001b[1;3m{'percent_change': -19.444444444444446}\u001b[0m\n",
      "Thought:\u001b[32;1m\u001b[1;3mThe performance of Ecopro(KOSDAQ) since the short-selling ban in South Korea on November 5, 2023, has decreased by approximately 19.44%. Now I have all the information needed to provide a final answer. \n",
      "Action:\n",
      "```\n",
      "{\n",
      "  \"action\": \"Final Answer\",\n",
      "  \"action_input\": \"1. The latest trading day stock price of Ecopro(KOSDAQ) is 667000.0. 2. Korea totally banned short-selling starting from November 5, 2023. 3. The performance of Ecopro(KOSDAQ) since the ban has decreased by approximately 19.44%.\"\n",
      "}\n",
      "```\u001b[0m\n",
      "\n",
      "\u001b[1m> Finished chain.\u001b[0m\n"
     ]
    },
    {
     "data": {
      "text/plain": [
       "'1. The latest trading day stock price of Ecopro(KOSDAQ) is 667000.0. 2. Korea totally banned short-selling starting from November 5, 2023. 3. The performance of Ecopro(KOSDAQ) since the ban has decreased by approximately 19.44%.'"
      ]
     },
     "execution_count": 42,
     "metadata": {},
     "output_type": "execute_result"
    }
   ],
   "source": [
    "llm = ChatOpenAI(model=\"gpt-4\", temperature=0, openai_api_key=\"\")\n",
    "search = TavilySearchAPIWrapper()\n",
    "tavily_tool = TavilySearchResults(api_wrapper=search)\n",
    "tools = [CurrentStockPriceTool(),StockPerformanceTool(),tavily_tool]\n",
    "\n",
    "agent = initialize_agent(tools, llm, agent=AgentType.STRUCTURED_CHAT_ZERO_SHOT_REACT_DESCRIPTION, verbose=True)\n",
    "agent.run(\"get me 3 data [\\\n",
    "          1. the latest trading day stock price of Ecopro(KOSDAQ), \\\n",
    "          2. the date in which Korea totally banned short-selling,\\\n",
    "          3. its performance since the ban].\"\n",
    "          \"End search action till you find the date of ban. You'd better look up Korean journal first\\\n",
    "            For the failure of lookup after 3 rounds, Do not assume any random dates if the article searched doesn't say about it, you can tell me\\\n",
    "            the article's release date and ultimately the performance since then\")"
   ]
  },
  {
   "cell_type": "code",
   "execution_count": null,
   "metadata": {},
   "outputs": [],
   "source": []
  }
 ],
 "metadata": {
  "kernelspec": {
   "display_name": "base",
   "language": "python",
   "name": "python3"
  },
  "language_info": {
   "codemirror_mode": {
    "name": "ipython",
    "version": 3
   },
   "file_extension": ".py",
   "mimetype": "text/x-python",
   "name": "python",
   "nbconvert_exporter": "python",
   "pygments_lexer": "ipython3",
   "version": "3.11.5"
  }
 },
 "nbformat": 4,
 "nbformat_minor": 2
}
