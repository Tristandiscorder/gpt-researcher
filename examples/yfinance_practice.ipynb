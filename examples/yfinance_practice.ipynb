{
 "cells": [
  {
   "cell_type": "markdown",
   "metadata": {},
   "source": [
    "# Yfinance_Usecase \n",
    "- developing python definition funneled into langchain tool thus to be selected  "
   ]
  },
  {
   "cell_type": "code",
   "execution_count": 27,
   "metadata": {},
   "outputs": [],
   "source": [
    "from typing import Type\n",
    "from langchain.llms import OpenAI\n",
    "from langchain.tools import BaseTool\n",
    "from pydantic import BaseModel, Field\n",
    "\n",
    "from datetime import datetime, timedelta\n",
    "\n",
    "import yfinance as yf"
   ]
  },
  {
   "cell_type": "code",
   "execution_count": 38,
   "metadata": {},
   "outputs": [],
   "source": [
    "def get_current_stock_price(ticker):\n",
    "    \"\"\"Method to get current stock price\"\"\"\n",
    "\n",
    "    ticker_data = yf.Ticker(ticker)\n",
    "    recent = ticker_data.history(period=\"6m\")\n",
    "    return {\"price\": recent.iloc[0][\"Close\"], \\\n",
    "            #\"currency\": ticker_data.info[\"currency\"]\n",
    "            }\n",
    "\n",
    "def get_stock_performance(ticker, past_date):\n",
    "    \"\"\"Method to get stock price change in percentage\"\"\"\n",
    "    \n",
    "    ticker_data = yf.Ticker(ticker)\n",
    "    history = ticker_data.history(start=past_date)\n",
    "    old_price = history.iloc[0][\"Close\"]\n",
    "    current_price = history.iloc[-1][\"Close\"]\n",
    "    return {\"percent_change\": ((current_price - old_price) / old_price) * 100}\n",
    "\n",
    "class CurrentStockPriceInput(BaseModel):\n",
    "    \"\"\"Inputs for get_current_stock_price\"\"\"\n",
    "\n",
    "    ticker: str = Field(description=\"Ticker symbol of the stock\")\n",
    "\n",
    "\n",
    "class CurrentStockPriceTool(BaseTool):\n",
    "    name = \"get_current_stock_price\"\n",
    "    description = \"\"\"\n",
    "        Useful when you want to get current stock price.\n",
    "        You should enter the stock ticker symbol recognized by the yahoo finance\n",
    "        \"\"\"\n",
    "    args_schema: Type[BaseModel] = CurrentStockPriceInput\n",
    "\n",
    "    def _run(self, ticker: str):\n",
    "        price_response = get_current_stock_price(ticker)\n",
    "        return price_response\n",
    "\n",
    "    def _arun(self, ticker: str):\n",
    "        raise NotImplementedError(\"get_current_stock_price does not support async\")\n",
    "\n"
   ]
  },
  {
   "cell_type": "code",
   "execution_count": 39,
   "metadata": {},
   "outputs": [],
   "source": [
    "class StockPerformanceInput(BaseModel):\n",
    "    \"\"\"Inputs for get_stock_performance\"\"\"\n",
    "\n",
    "    ticker: str = Field(description=\"Ticker symbol of the stock\")\n",
    "    past_date: str = Field(description=\"past_date asked to compare the price for the stock\")\n",
    "\n",
    "\n",
    "class StockPerformanceTool(BaseTool):\n",
    "    name = \"get_stock_performance\"\n",
    "    description = \"\"\"\n",
    "        Useful when you want to get the stock performance over the given period.\n",
    "        You should enter the stock ticker symbol recognized by the yahoo finance\n",
    "        \"\"\"\n",
    "    args_schema: Type[BaseModel] = StockPerformanceInput\n",
    "\n",
    "    def _run(self, ticker: str , past_date: str):\n",
    "        performance_response = get_stock_performance(ticker,past_date)\n",
    "        return performance_response\n",
    "\n",
    "    def _arun(self, ticker: str , past_date: str):\n",
    "        raise NotImplementedError(\"get_stock_performance does not support async\")"
   ]
  },
  {
   "cell_type": "code",
   "execution_count": 29,
   "metadata": {},
   "outputs": [],
   "source": [
    "from langchain.agents import AgentType, initialize_agent, Tool\n",
    "from langchain.chat_models import ChatOpenAI\n",
    "from langchain.llms import OpenAI\n",
    "from langchain.tools.tavily_search import TavilySearchResults\n",
    "from langchain.utilities.tavily_search import TavilySearchAPIWrapper"
   ]
  },
  {
   "cell_type": "code",
   "execution_count": 41,
   "metadata": {},
   "outputs": [
    {
     "data": {
      "text/plain": [
       "True"
      ]
     },
     "execution_count": 41,
     "metadata": {},
     "output_type": "execute_result"
    }
   ],
   "source": [
    "from dotenv import load_dotenv\n",
    "load_dotenv()"
   ]
  },
  {
   "cell_type": "code",
   "execution_count": 42,
   "metadata": {},
   "outputs": [
    {
     "name": "stdout",
     "output_type": "stream",
     "text": [
      "\n",
      "\n",
      "\u001b[1m> Entering new AgentExecutor chain...\u001b[0m\n",
      "\u001b[32;1m\u001b[1;3mThought: First, I need to find the ticker symbol for Ecopro on the KOSDAQ. I will use the Search tool for this. \n",
      "Action:\n",
      "```\n",
      "{\n",
      "  \"action\": \"Search\",\n",
      "  \"action_input\": \"Ecopro KOSDAQ ticker symbol\"\n",
      "}\n",
      "```\u001b[0m\n",
      "Observation: \u001b[38;5;200m\u001b[1;3m[{'url': 'https://finance.yahoo.com/quote/086520.KQ/', 'content': \"Ecopro Co., Ltd. (086520.KQ) Subscribe to Yahoo Finance Plus to view Fair Value for 086520.KQ  Ecopro Materials eyes $498 million in potentially largest South Korean IPO since early 2022  Ecopro, Samsung Ink Massive $34 Billion Battery Deal Despite EV Slump  South Korea's Ecopro Materials, a battery materials producer, is gearing up for what could be the country's largestFind the latest Ecopro Co., Ltd. (086520.KQ) stock quote, history, news and other vital information to help you with your stock trading and investing.\"}, {'url': 'https://uk.finance.yahoo.com/quote/086520.KQ/', 'content': \"You might not be getting everything you're entitled to — this is what you need to check Ecopro Co., Ltd. (086520.KQ)  Ecopro Materials eyes $498 million in potentially largest South Korean IPO since early 2022  Ecopro, Samsung Ink Massive $34 Billion Battery Deal Despite EV Slump  South Korea's Ecopro Materials, a battery materials producer, is gearing up for what could be the country's largestFind the latest Ecopro Co., Ltd. (086520.KQ) stock quote, history, news and other vital information to help you with your stock trading and investing. ... KOSDAQ - KOSDAQ Delayed price. Currency in KRW. Add to watchlist. 703,000.00 +3,000.00 ... South Korea's Ecopro Materials, a battery materials producer, is gearing up for what could be the ...\"}, {'url': 'https://www.bloomberg.com/quote/086520:KS', 'content': 'www.ecopro.co.kr Income Statement Annual Balance Sheet Overview Key Statistics  Crypto Bitcoin’s Largest Decline in Four Months Frays Startling Rally Ecopro Co Ltd086520:KS Overview Key Statistics  Ecopro Co., Ltd. specializes in developing chemical absorbent and NDC (Nano Carbon Ball) in the field of environmental  Equality Young Investors’ Support for ESG Causes Declines in 2023 ‘Gut Check’ Featured GreenStock analysis for Ecopro Co Ltd (086520:KOSDAQ) including stock price, stock chart, company news, key statistics, fundamentals and company profile.'}]\u001b[0m\n",
      "Thought:\u001b[32;1m\u001b[1;3mThe ticker symbol for Ecopro on the KOSDAQ is 086520.KQ. Now, I will use the get_current_stock_price tool to find the latest trading day stock price for Ecopro.\n",
      "Action:\n",
      "```\n",
      "{\n",
      "  \"action\": \"get_current_stock_price\",\n",
      "  \"action_input\": {\n",
      "    \"ticker\": \"086520.KQ\"\n",
      "  }\n",
      "}\n",
      "```\u001b[0m\n",
      "Observation: \u001b[36;1m\u001b[1;3m{'price': 660000.0}\u001b[0m\n",
      "Thought:\u001b[32;1m\u001b[1;3mThe latest trading day stock price for Ecopro is 660,000 KRW. Now, I need to find the date when Korea totally banned short-selling. I will use the Search tool for this. \n",
      "Action:\n",
      "```\n",
      "{\n",
      "  \"action\": \"Search\",\n",
      "  \"action_input\": \"date Korea banned short-selling\"\n",
      "}\n",
      "```\u001b[0m\n",
      "Observation: \u001b[38;5;200m\u001b[1;3m[{'url': 'https://www.investopedia.com/how-does-south-koreas-short-selling-ban-affect-us-investors-8391133', 'content': 'Citing instances of illegal “naked” short selling, South Korea banned short selling through June 2024  The South Korean Financial Services Commission said that it had found a number of cases of illegal naked short selling  How Does South Korea\\'s Short Selling Ban Affect US Investors?  Bloomberg. “South Korea Plans to Fine Two Global Investment Banks for Naked Short Selling.”South Korean regulators banned short-selling in stocks through June 2024 Ban is in place after regulators found \"routine\" abuse of so-called naked short selling from foreign and...'}, {'url': 'https://www.cnbc.com/2023/11/06/asia-stock-markets-live-updates.html', 'content': 'Click here to read the full story. â€” Shreyashi Sanyal South Korea stocks surge after temporary ban on short selling  ETFs Bonds South Korea stocks surge more than 5% for best session since March 2020 after short-selling ban  South Korea stocks surged on Monday after the country re-imposed a ban on short selling, while most Asia-Pacific  billion) during the period, with year-to-date volume reaching 7.3 trillion South Korean won, the report said.South Korea stocks surged on Monday after the country re-imposed a ban on short selling, while most Asia-Pacific markets took heart from a soft U.S. jobs report that helped reduce interest...'}, {'url': 'https://www.bloomberg.com/news/articles/2023-12-12/short-selling-ban-curbs-foreign-investor-stock-trading-in-korea', 'content': \"Foreign Hedge Funds Retreat From Korea After Short Sale Ban  since the surprise return of a ban on short selling.  funds’ share of turnover also dipped while retail investors have extended their dominance of Korean trading.  Participation by global funds in trading in South Korea’s $1.8 trillion stock market has declined since the surpriseParticipation by global funds in trading in South Korea's $1.8 trillion stock market has declined since the surprise return of a ban on short selling. Foreign investors have accounted for 18%...\"}, {'url': 'https://www.bloomberg.com/news/articles/2023-11-23/what-is-short-selling-stock-and-why-did-south-korea-ban-it', 'content': \"Why South Korea Is At War With Short Sellers, Again  Short sellers are facing the heat in South Korea again after regulators reimposed a full ban on the practice of selling  trading practices that could erode public trust in markets. While South Korean shares rallied after the ban, the gains  practice of selling borrowed shares. Their goal is to stop big investment banks engaging in illicit trading practicesOn Nov. 5, the country's Financial Services Commission reimposed the blanket ban on all short selling until June 30, 2024. The restriction didn't apply to existing positions, so investors were...\"}]\u001b[0m\n",
      "Thought:\u001b[32;1m\u001b[1;3mSouth Korea reimposed a full ban on short selling on November 5, 2023. Now, I will use the get_stock_performance tool to find the performance of Ecopro since the ban.\n",
      "Action:\n",
      "```\n",
      "{\n",
      "  \"action\": \"get_stock_performance\",\n",
      "  \"action_input\": {\n",
      "    \"ticker\": \"086520.KQ\",\n",
      "    \"past_date\": \"2023-11-05\"\n",
      "  }\n",
      "}\n",
      "```\n",
      "\u001b[0m\n",
      "Observation: \u001b[33;1m\u001b[1;3m{'percent_change': -20.28985507246377}\u001b[0m\n",
      "Thought:\u001b[32;1m\u001b[1;3mThe performance of Ecopro since the ban on short selling in South Korea has decreased by approximately 20.29%. Now, I can provide the final answer to the user. \n",
      "Action:\n",
      "```\n",
      "{\n",
      "  \"action\": \"Final Answer\",\n",
      "  \"action_input\": \"1. The latest trading day stock price for Ecopro (KOSDAQ: 086520.KQ) is 660,000 KRW. 2. South Korea totally banned short-selling on November 5, 2023. 3. Since the ban, the performance of Ecopro has decreased by approximately 20.29%.\"\n",
      "}\n",
      "```\u001b[0m\n",
      "\n",
      "\u001b[1m> Finished chain.\u001b[0m\n"
     ]
    },
    {
     "data": {
      "text/plain": [
       "'1. The latest trading day stock price for Ecopro (KOSDAQ: 086520.KQ) is 660,000 KRW. 2. South Korea totally banned short-selling on November 5, 2023. 3. Since the ban, the performance of Ecopro has decreased by approximately 20.29%.'"
      ]
     },
     "execution_count": 42,
     "metadata": {},
     "output_type": "execute_result"
    }
   ],
   "source": [
    "llm = ChatOpenAI(model=\"gpt-4\", temperature=0, openai_api_key=\"\")\n",
    "search = TavilySearchAPIWrapper()\n",
    "tavily_tool = TavilySearchResults(api_wrapper=search, max_results=10)\n",
    "tools = [CurrentStockPriceTool(),StockPerformanceTool(),\n",
    "         Tool(\n",
    "        name=\"Search\",\n",
    "        func=tavily_tool.run,\n",
    "        description=\"useful for when you need to get ticker and current event about the stock in question\"\n",
    "    )]\n",
    "agent = initialize_agent(tools=tools,\n",
    "                          llm=llm,\n",
    "                          agent=AgentType.STRUCTURED_CHAT_ZERO_SHOT_REACT_DESCRIPTION, verbose=True)\n",
    "#(최근 거래가, 공매도일자, 수익률)\n",
    "agent.run(\"get me 3 data \\\n",
    "          [1. the latest trading day stock price of Ecopro(KOSDAQ),\\\n",
    "           2. the date in which Korea totally banned short-selling,\\\n",
    "           3. its performance since the ban].\\n\"\n",
    "          \"Do not assume any random dates if the article searched doesn't say about it, you can tell me\\\n",
    "            that article's release date and ultimately the performance since then\")"
   ]
  },
  {
   "cell_type": "code",
   "execution_count": 47,
   "metadata": {},
   "outputs": [],
   "source": [
    "llm = ChatOpenAI(model=\"gpt-4\", temperature=0, openai_api_key=\"\")\n",
    "tavily_tool = TavilySearchResults(api_wrapper=search, max_results=3)\n",
    "tools = [Tool(\n",
    "        name=\"Search\",\n",
    "        func=tavily_tool.run,\n",
    "        description=\"useful for when you need to get ticker\"\n",
    "    )\n",
    "]\n",
    "\n",
    "ticker_agent = initialize_agent(tools=tools,\n",
    "                          llm=llm,\n",
    "                          agent=AgentType.OPENAI_FUNCTIONS, verbose=True)"
   ]
  },
  {
   "cell_type": "code",
   "execution_count": 48,
   "metadata": {},
   "outputs": [
    {
     "name": "stdout",
     "output_type": "stream",
     "text": [
      "\n",
      "\n",
      "\u001b[1m> Entering new AgentExecutor chain...\u001b[0m\n",
      "\u001b[32;1m\u001b[1;3m\n",
      "Invoking: `Search` with `Ecopro(KOSDAQ)`\n",
      "\n",
      "\n",
      "\u001b[0m\u001b[36;1m\u001b[1;3m[{'url': 'https://koreajoongangdaily.joins.com/2023/04/20/business/industry/Korea-ecopro-ecopro-bm/20230420174402783.html', 'content': \"korea joongAng daily Home > Business > Industry [NEWS IN FOCUS] EcoPro stocks skyrocket, but some analysts spooked  EcoPro BM officials celebrate the company's public listing in March 2019 at Korea Exchange headquarters in Yeouido,  Climbing higher The price is right, EcoPro Materials CEO says ahead of IPO  EcoPro BM's building in Pohang, North Gyeongsang [YONHAP]EcoPro, a chemicals group that owns a battery materials unit, soared almost 500 percent in the first four months on the Kosdaq stock market, prompting investors and analysts to scrutinize the company. Solid demand and optimism for electric vehicles are major factors driving up the stock, but the breakneck rally has some analysts worried.\"}, {'url': 'https://finance.yahoo.com/quote/086520.KQ/', 'content': \"Ecopro Co., Ltd. (086520.KQ) Subscribe to Yahoo Finance Plus to view Fair Value for 086520.KQ  Ecopro Materials eyes $498 million in potentially largest South Korean IPO since early 2022  Ecopro, Samsung Ink Massive $34 Billion Battery Deal Despite EV Slump  South Korea's Ecopro Materials, a battery materials producer, is gearing up for what could be the country's largestFind the latest Ecopro Co., Ltd. (086520.KQ) stock quote, history, news and other vital information to help you with your stock trading and investing.\"}, {'url': 'https://fortune.com/2023/09/07/lee-dong-chae-ecopro-co-founder-fortune-rises-ev-rally-despite-south-korea-imprisonment/', 'content': \"Retail investors, buoyed by a continued focus on EV introduction into the mainstream, have similarly piled into Ecopro  Ecopro’s success has been a melting pot of factors: timing, retail investors, and a new focus on compliance.  piled into Ecopro as a key component maker for such vehicles.  told Bloomberg that Ecopro stock may have become overheated as a result.The South Korean billionaire—who launched battery material producer Ecopro in 1998 —is currently serving a two-year sentence accused of violating the country's capital market act. According to...\"}]\u001b[0m\u001b[32;1m\u001b[1;3m086520.KQ\u001b[0m\n",
      "\n",
      "\u001b[1m> Finished chain.\u001b[0m\n"
     ]
    }
   ],
   "source": [
    "ticker= ticker_agent.run(\"get me the ticker for Ecopro(KOSDAQ), you should return only ticker, no strings attached\")"
   ]
  },
  {
   "cell_type": "code",
   "execution_count": 49,
   "metadata": {},
   "outputs": [
    {
     "data": {
      "text/plain": [
       "'086520.KQ'"
      ]
     },
     "execution_count": 49,
     "metadata": {},
     "output_type": "execute_result"
    }
   ],
   "source": [
    "ticker"
   ]
  },
  {
   "cell_type": "code",
   "execution_count": 21,
   "metadata": {},
   "outputs": [],
   "source": [
    "from langchain.document_loaders import PyPDFLoader\n",
    "\n",
    "loader = PyPDFLoader(\"../frontend/static/하나증권_에코프로.pdf\")\n",
    "pages = loader.load_and_split()"
   ]
  },
  {
   "cell_type": "code",
   "execution_count": 22,
   "metadata": {},
   "outputs": [
    {
     "data": {
      "text/plain": [
       "Document(page_content='2023년 11월 8일 I 기업분석 _Earnings Review  \\n에코프로  (086520)  \\n인기투표와  저울 \\n \\n3Q23 Review :  비상장  자회사  실적 악화 \\n3분기 연결 실적은  매출 1.9조원(YoY + 17%, QoQ -6%), 영업이익  650억원(YoY -69%, \\nQoQ -62%)으로 부진했다. BM 영업이익이 메탈 가격 하락에  따른 수익성  악화로  인해 \\nYoY -68%, QoQ -60% 감소한  데 따른 영향이  컸다. 리튬 및 리싸이클링  자회사  실적 상\\n세는 공시되지  않았으나 , 지주사  연결 이익에서 상장 자회사  이익 제외한 영업이익이 76억\\n원(4Q22 611 억원, 1Q23 630 억원, 2Q23 444 억원)에 불과한  것 감안하면 , 에코프로  이노베이\\n션 등 비상장  법인 실적은  매우 부진했을  것으로  추정된다 . 4분기의 경우, 전기차  수요 둔화\\n에 따른 양극재  수요 감소로  양극재  출하 증가 기대하기  어려운  상황에서  메탈 가격 하락에 \\n따른 수익성  악화로  인해 3분기 대비 매출 및 영업이익  모두 감익 불가피할  전망이다 . \\n명확한  판단 기준 필요 \\n주가는  단기적으로  인기투표와  같지만  장기적으로는  저울과  같다. 인기투표는  Social \\nmedia , 지수 편입 등과 같이 수급의  쏠림을  만들어내는 , 내재가치와  무관한  이슈로  주인공\\n을 만들어 내지만 , 저울의 눈금은  결국 장기적으로  기업의  내재가치를  가리킨다 . 열기가  가\\n라앉은  후 저울이  가리킬  지점에  대한 판단 기준을  갖고 있어야  손실을  최소화할  수 있고, \\n언젠가  도래할  시장의  외면 속에서도 다시 기회를  찾을 수 있다. \\nValuation 공백 상태 \\nBM의 장기 내재 가치는 32.9조원(금리 상승 및 가중평균자본비용 (WACC) 상승으로 , 현가 \\n할인한  시가총액  감소 반영)이며, 이 중 지주사의  향유 가치는  7.4조원이다 (보유 지분율  \\n및 상장 자회사  할인율  적용). 머티리얼즈의  경우 2.5조원으로  상장하겠으나 , 미국 FTA 체\\n결국 내 전구체 공급 부족에 따른 장기 실적 성장성  감안할  때, 현재 가치 할인한  적정 가\\n치는 2.9조원이라고  판단한다 . 2.9조원 중 지주사  향유 가치는  0.8조원이다 . 에코프로  이노\\n베이션의  경우, 수산화리튬  가격이  지난 4년간 급등락 (6$ -> 82$ -> 22$)하는 국면에서  극\\n심한 수익성  변동성을 보여주고  있음을 고려해야  한다. 리튬 산업의  가격 및 마진 변동성\\n으로 인해 미국 Albemarle, 중국 Ganfeng Lithium 등의 12M Fwd P/E는 7.5배 불과하다. \\n에코프로  이노베이션의  경우 그룹사  순환 생태계  보유 고려해 글로벌  리튬 기업 대비 \\n80%의 Valuation 프리미엄 부여하여  적정 가치 2조원을 도출하였다. 이외 기타 자회사들\\n의 가치 합산한  지주사  에코프로의  가치를  현가 할인하면 10.9조원이  도출된다. 현 시총 \\n22.9조원과의  격차를  감안하면 , 현 주가는  사실상  Valuation 공백 상태다 . 이러한 \\nValuation 변수의 공백은 극심한  주가 변동성을  야기한다. “시장의  변동성은  벌금이  아니\\n라 입장료 (Morgan Housel) ”라 했으나 , 이는 주가가  본질 가치로  상승 수렴하는  과정에서 \\n유효한  정의다. 본질 가치를 초과한 버블의  영역에서  변동성  전투 참전은 결국 벌금으로  \\n돌아올  뿐이다 . 금리 상승에  따른 현재가치  할인 반영해  목표주가를  42만원으로  하향 조\\n정하고  투자의견  매도를  유지한다 .   \\n  \\n Reduce    \\n \\n     목표주가 (12M)  420,000원(하향)   \\n 현재주가 (11.07) 859,000원   \\n     \\n Key Data    \\n KOSDAQ 지수 (pt) 824.37    \\n 52주 최고/최저(원) 1,293,000/103,000    \\n 시가총액 (십억원 ) 22,873.2    \\n 시가총액비중 (%) 5.67   \\n 발행주식수 (천주) 26,627.7    \\n 60일 평균 거래량 (천주) 700.0   \\n 60일 평균 거래대금 (십억원 ) 683.5   \\n 외국인지분율 (%) 10.44   \\n 주요주주  지분율 (%)    \\n 이동채 외 10 인 26.14   \\n     \\n Consensus Data    \\n  2023 2024   \\n 매출액 (십억원 ) 9,078.0  10,778.9    \\n 영업이익 (십억원 ) 737.2 847.2   \\n 순이익 (십억원 ) 489.0 601.0   \\n EPS(원) 15,857  19,427    \\n BPS(원) 66,963  86,114    \\n Financial Data  (십억원 , %, 배, 원)   \\n 투자지표  2021 2022 2023F  2024F    \\n 매출액  1,504.2  5,639.7  7,744.6  8,288.4    \\n 영업이익  86.0 613.2 478.9 500.5   \\n 세전이익  (171.5)  306.6 355.3 397.2   \\n 순이익  240.3 36.1 157.5 356.2   \\n EPS 11,001  1,418 5,936 13,376    \\n 증감율  956.77  (87.11)  318.62  125.34    \\n PER 10.37 72.64 144.71  64.22   \\n PBR 2.50 2.03 15.38 12.50   \\n EV/EBITDA  28.01 6.82 40.05 37.95   \\n ROE 32.69 2.94 11.39 21.83   \\n BPS 45,708  50,641  55,836  68,732    \\n DPS 410 486 486 486   \\n \\n   \\n Analyst  김현수  hyunsoo @hanafn.com  \\nRA 위경재  kyungjae.wee @hanafn.com', metadata={'source': '../frontend/static/하나증권_에코프로.pdf', 'page': 0})"
      ]
     },
     "execution_count": 22,
     "metadata": {},
     "output_type": "execute_result"
    }
   ],
   "source": [
    "pages[0]"
   ]
  },
  {
   "cell_type": "code",
   "execution_count": 10,
   "metadata": {},
   "outputs": [
    {
     "data": {
      "text/plain": [
       "6"
      ]
     },
     "execution_count": 10,
     "metadata": {},
     "output_type": "execute_result"
    }
   ],
   "source": [
    "len(pages)"
   ]
  },
  {
   "cell_type": "markdown",
   "metadata": {},
   "source": [
    "- An advantage of this approach is that documents can be retrieved with page numbers.\n",
    "- We want to use OpenAIEmbeddings so we have to get the OpenAI API Key."
   ]
  },
  {
   "cell_type": "code",
   "execution_count": 22,
   "metadata": {},
   "outputs": [
    {
     "ename": "NameError",
     "evalue": "name 'pages' is not defined",
     "output_type": "error",
     "traceback": [
      "\u001b[0;31m---------------------------------------------------------------------------\u001b[0m",
      "\u001b[0;31mNameError\u001b[0m                                 Traceback (most recent call last)",
      "Cell \u001b[0;32mIn[22], line 4\u001b[0m\n\u001b[1;32m      1\u001b[0m \u001b[38;5;28;01mfrom\u001b[39;00m \u001b[38;5;21;01mlangchain\u001b[39;00m\u001b[38;5;21;01m.\u001b[39;00m\u001b[38;5;21;01mvectorstores\u001b[39;00m \u001b[38;5;28;01mimport\u001b[39;00m FAISS\n\u001b[1;32m      2\u001b[0m \u001b[38;5;28;01mfrom\u001b[39;00m \u001b[38;5;21;01mlangchain\u001b[39;00m\u001b[38;5;21;01m.\u001b[39;00m\u001b[38;5;21;01membeddings\u001b[39;00m\u001b[38;5;21;01m.\u001b[39;00m\u001b[38;5;21;01mopenai\u001b[39;00m \u001b[38;5;28;01mimport\u001b[39;00m OpenAIEmbeddings\n\u001b[0;32m----> 4\u001b[0m faiss_index \u001b[38;5;241m=\u001b[39m FAISS\u001b[38;5;241m.\u001b[39mfrom_documents(pages, OpenAIEmbeddings())\n\u001b[1;32m      5\u001b[0m docs \u001b[38;5;241m=\u001b[39m faiss_index\u001b[38;5;241m.\u001b[39msimilarity_search(\u001b[38;5;124m\"\u001b[39m\u001b[38;5;124mwhat is the stock\u001b[39m\u001b[38;5;124m'\u001b[39m\u001b[38;5;124ms target price?\u001b[39m\u001b[38;5;124m\"\u001b[39m, k\u001b[38;5;241m=\u001b[39m\u001b[38;5;241m4\u001b[39m)\n\u001b[1;32m      6\u001b[0m \u001b[38;5;28;01mfor\u001b[39;00m doc \u001b[38;5;129;01min\u001b[39;00m docs:\n",
      "\u001b[0;31mNameError\u001b[0m: name 'pages' is not defined"
     ]
    }
   ],
   "source": [
    "from langchain.vectorstores import FAISS\n",
    "from langchain.embeddings.openai import OpenAIEmbeddings\n",
    "\n",
    "faiss_index = FAISS.from_documents(pages, OpenAIEmbeddings())\n",
    "docs = faiss_index.similarity_search(\"what is the stock's target price?\", k=4)\n",
    "for doc in docs:\n",
    "    print(str(doc.metadata[\"page\"]) + \":\", doc.page_content[:])"
   ]
  },
  {
   "cell_type": "code",
   "execution_count": 53,
   "metadata": {},
   "outputs": [],
   "source": [
    "from PyPDF2 import PdfReader\n",
    "from langchain.text_splitter import CharacterTextSplitter\n",
    "from langchain.vectorstores import FAISS\n",
    "from langchain.chains import RetrievalQA\n",
    "from langchain.embeddings.openai import OpenAIEmbeddings\n",
    "from langchain.chat_models import ChatOpenAI\n",
    "from langchain.document_loaders import PyMuPDFLoader"
   ]
  },
  {
   "cell_type": "code",
   "execution_count": 2,
   "metadata": {},
   "outputs": [],
   "source": [
    "def get_pdf_text(pdf_docs):\n",
    "    text = \"\" #init\n",
    "    for pdf in pdf_docs:\n",
    "        pdf_reader = PdfReader(pdf)\n",
    "        for page in pdf_reader.pages:\n",
    "            text += page.extract_text()\n",
    "    return text\n"
   ]
  },
  {
   "cell_type": "code",
   "execution_count": 3,
   "metadata": {},
   "outputs": [],
   "source": [
    "\n",
    "def get_text_chunks(text):\n",
    "    text_splitter = CharacterTextSplitter(\n",
    "        separator=\"\\n\",\n",
    "        chunk_size=1000,\n",
    "        chunk_overlap=200,\n",
    "        length_function=len\n",
    "    )\n",
    "    chunks = text_splitter.split_text(text)\n",
    "    return chunks"
   ]
  },
  {
   "cell_type": "code",
   "execution_count": 5,
   "metadata": {},
   "outputs": [],
   "source": [
    "def get_vectorstore(text_chunks):\n",
    "    embeddings = OpenAIEmbeddings()\n",
    "    vectorstore = FAISS.from_texts(texts=text_chunks, embedding=embeddings)\n",
    "    return vectorstore"
   ]
  },
  {
   "cell_type": "code",
   "execution_count": 26,
   "metadata": {},
   "outputs": [],
   "source": [
    "def get_retriever_chain(vectorstore):\n",
    "    llm = ChatOpenAI()\n",
    "\n",
    "    retriever_chain= RetrievalQA.from_chain_type(\n",
    "        llm=llm,\n",
    "        chain_type=\"stuff\",\n",
    "        retriever=vectorstore.as_retriever())\n",
    "    return retriever_chain"
   ]
  },
  {
   "cell_type": "code",
   "execution_count": 18,
   "metadata": {},
   "outputs": [],
   "source": [
    "import os\n",
    "\n",
    "# Define the directory\n",
    "dir_path = 'frontend/static'\n",
    "\n",
    "# Initialize an empty list to store the PyPDFLoader objects\n",
    "pdf_docs = []\n",
    "\n",
    "# Iterate over all files in the directory\n",
    "for filename in os.listdir(dir_path):\n",
    "    # Check if the file is a PDF\n",
    "    if filename.endswith('.pdf'):\n",
    "        # Construct full file path\n",
    "        file_path = os.path.join(dir_path, filename)\n",
    "        pdf_docs.append(file_path)"
   ]
  },
  {
   "cell_type": "code",
   "execution_count": 66,
   "metadata": {},
   "outputs": [
    {
     "data": {
      "text/plain": [
       "['../frontend/static/키움증권_삼성전자.pdf',\n",
       " '../frontend/static/키움증권_삼성전자_20231208074621.pdf',\n",
       " '../frontend/static/하나증권_에코프로.pdf',\n",
       " '../frontend/static/현대차증권_삼성전자_20231205082639.pdf']"
      ]
     },
     "execution_count": 66,
     "metadata": {},
     "output_type": "execute_result"
    }
   ],
   "source": [
    "pdf_docs"
   ]
  },
  {
   "cell_type": "code",
   "execution_count": 73,
   "metadata": {},
   "outputs": [
    {
     "data": {
      "text/plain": [
       "Document(page_content=\"반도체 \\n \\n \\n6 \\n \\n삼성전자 \\n \\n \\n삼성전자 (005930) \\n \\nBUY(Maintain) \\n주가(11/29) 72,700원  \\n목표주가 90,000원  \\n \\n반도체 Analyst 박유악 \\nyuak.pak@kiwoom.com \\n \\nDRAM 산업은 올 연말 공급 부족에 재진\\n입할 전망. NAND 역시 유통재고의 급격한 \\n소진과 함께 가격 급등이 나타날 전망. 이\\n에 따라 삼성전자의 영업이익은 4Q23 4.0\\n조원(+64%QoQ), 2024년 37조원(+380% \\nYoY)으로 성장세 이어질 전망. 목표주가 \\n90,000원을 유지하며, 업종 top pick으로 \\n매수 추천함. \\n \\nStock Data \\nKOSPI (11/29) \\n \\n2,519.81pt \\n시가총액 \\n 4,340,032억원 \\n52주 주가동향  \\n최고가 \\n최저가 \\n \\n73,400 원 \\n55,300원 \\n최고/최저가대비 등락 \\n-1.0% \\n31.5% \\n주가수익률 \\n절대 \\n상대 \\n1M \\n8.0% \\n-1.4% \\n6M \\n3.4% \\n4.9% \\n1Y \\n21.0% \\n15.5% \\n \\n \\n \\nComany Data \\n발행주식수 \\n \\n5,969,783천주 \\n일평균 거래량(3M)  \\n14,119 천주 \\n외국인 지분율 \\n \\n53.5% \\n배당수익률(23.E) \\n \\n2.4% \\nBPS�(23.E) \\n \\n52,159 원 \\n주요 주주 \\n삼성생명보험 외 15인 \\n20.7% \\n \\n \\n \\nPrice Trend \\n \\n \\n \\n \\n \\n연말·연초 메모리가격 급등 예상 \\n 과잉재고 해소에 따른 업황 회복 \\n2024년 글로벌 반도체 업황은 상승 사이클에 진입할 것으\\n로 예상되나, 사이클의 속도는 유통재고 소진 뒤에 나타날 \\n수요의 개선 강도에 따라 달라질 전망이다. 오랜 기간 반도\\n체 업황을 괴롭혀 왔던 과잉 재고는 올 연말을 지나면서 점\\n차 해소될 것으로 보이며, 대규모 감산 이후 '공급자 우위'\\n로 돌아선 메모리 반도체는 '과잉 재고의 소진과 함께 가격\\n의 상승 탄력이 강해지는' 업황이 펼쳐질 것이다. 다만 하반\\n기로 갈수록 '업황의 회복'과 함께 '공급의 증가'가 동반되며 \\n메모리 가격의 상승 탄력이 점차 약해질 것으로 보인다.  \\n \\n 메모리, 수요와 공급의 줄다리기 \\nDRAM 산업은 올 연말을 시작으로 공급 부족 국면에 진\\n입할 것으로 예상되며, 수요 증가율이 높지 않은 만큼 \\n하반기로 갈수록 가동률 회복에 민감한 업황이 펼쳐질 \\n전망이다. 수급 여건 상 유통재고가 재차 상승하지는 않\\n겠지만, 공급이 증가하는 하반기로 갈수록 업황의 회복 \\n강도는 약해질 것이다. NAND는 유통재고의 급격한 소\\n진과 함께 제품 가격의 급등이 이뤄질 전망이다. 이는 \\n저가에 제품을 구매해 놓고자 하는 고객들의 build-up \\n욕구를 자극해, '가격 상승 → 수요 증가 → 가격 상승'으\\n로 이어지는 선순환 흐름을 보일 것이다. 다만 하반기에\\n는 NAND 역시 공급의 증가를 소화하며, 업황의 회복 \\n속도가 둔화될 것으로 보인다. \\n \\n 반도체 업종 top pick 유지 \\nHBM3/HBM3e 시장 진입, 파운드리 3~4nm 공정 신규 \\n고객 확보, IT OLED 패널 공급 등에 따른 주가 모멘텀 \\n확대를 예상하며, 업종 top pick으로 매수 추천한다. \\n \\n(십억원, IFRS 연결) \\n2021 \\n2022 \\n2023F \\n2024F \\n2025F \\n매출액 \\n279,605 302,231 257,330 286,701 309,000 \\n영업이익 \\n51,634 \\n43,377 \\n7,728 \\n37,113 \\n59,256 \\nEBITDA \\n85,881 \\n82,484 \\n48,594 \\n80,564 104,818 \\n세전이익 \\n53,352 \\n46,440 \\n12,967 \\n42,901 \\n65,026 \\n순이익 \\n39,907 \\n55,654 \\n14,792 \\n32,330 \\n49,420 \\n지배주주지분순이익 \\n39,244 \\n54,730 \\n13,768 \\n31,301 \\n47,848 \\nEPS(원) \\n5,777 \\n8,057 \\n2,027 \\n4,608 \\n7,044 \\n 증감률(%,YoY) \\n50.4 \\n39.5 \\n-74.8 \\n127.3 \\n52.9 \\nPER(배) \\n13.6 \\n6.9 \\n35.9 \\n15.8 \\n10.3 \\nPBR(배) \\n1.80 \\n1.09 \\n1.39 \\n1.30 \\n1.17 \\nEV/EBITDA(배) \\n5.2 \\n3.5 \\n6.8 \\n3.9 \\n2.8 \\n영업이익률(%) \\n18.5 \\n14.4 \\n3.0 \\n12.9 \\n19.2 \\nROE(%) \\n13.9 \\n17.1 \\n3.9 \\n8.5 \\n11.9 \\n순차입금비율(%) \\n-29.0 \\n-25.4 \\n-24.3 \\n-25.8 \\n-28.9 \\n자료: 키움증권 리서치센터 \\n \\n \\n \\n-5\\n5\\n15\\n25\\n35\\n45\\n0\\n10,000\\n20,000\\n30,000\\n40,000\\n50,000\\n60,000\\n70,000\\n80,000\\n22.11\\n23.02\\n23.05\\n23.08\\n(%)\\n(원)\\n수정주가(좌)\\n상대수익률(우)\\n\", metadata={'source': '../frontend/static/키움증권_삼성전자.pdf', 'file_path': '../frontend/static/키움증권_삼성전자.pdf', 'page': 0, 'total_pages': 10, 'format': 'PDF 1.7', 'title': '키움증권20231129f', 'author': 'my', 'subject': '', 'keywords': '', 'creator': 'Microsoft® Word 2016', 'producer': 'Microsoft® Word 2016', 'creationDate': \"D:20231130090111+09'00'\", 'modDate': \"D:20231130090111+09'00'\", 'trapped': ''})"
      ]
     },
     "execution_count": 73,
     "metadata": {},
     "output_type": "execute_result"
    }
   ],
   "source": [
    "PyMuPDFLoader(pdf_docs[0]).load()[0]"
   ]
  },
  {
   "cell_type": "code",
   "execution_count": 78,
   "metadata": {},
   "outputs": [],
   "source": [
    "def get_pdf_text(pdf_docs):\n",
    "    text = \"\" #init\n",
    "    for i in range(len(pdf_docs)):\n",
    "        doc_text = PyMuPDFLoader(pdf_docs[i]).load()\n",
    "        for j in range(len(doc_text)):\n",
    "            text += doc_text[j].page_content\n",
    "    return text"
   ]
  },
  {
   "cell_type": "code",
   "execution_count": 79,
   "metadata": {},
   "outputs": [],
   "source": [
    "raw_text = get_pdf_text(pdf_docs)\n",
    "text_chunks = get_text_chunks(raw_text)\n",
    "vectorstore = get_vectorstore(text_chunks)\n",
    "llm_papers = get_retriever_chain(vectorstore)"
   ]
  },
  {
   "cell_type": "code",
   "execution_count": 80,
   "metadata": {},
   "outputs": [
    {
     "name": "stdout",
     "output_type": "stream",
     "text": [
      "\n",
      "\n",
      "\u001b[1m> Entering new AgentExecutor chain...\u001b[0m\n",
      "\u001b[32;1m\u001b[1;3mTo answer this question, I need to analyze the layout and common characteristics of the documents uploaded in the document store.\n",
      "Action: Document Store\n",
      "Action Input: Analyze the layout and common characteristics of the documents uploaded.\u001b[0m\n",
      "Observation: \u001b[36;1m\u001b[1;3mThe documents uploaded appear to be financial data and analysis reports from a research center at a securities company. The layout of the documents is consistent, with clearly organized sections and tables presenting various data points. Each document includes information on different business sectors, such as mobile phones, tablets, and semiconductors. \n",
      "\n",
      "The common characteristics of the documents are as follows:\n",
      "\n",
      "1. Data Presentation: The documents provide quantitative data in the form of percentages, quantities, average selling prices (ASP), and cost figures. The data is often presented in tables and charts for easy comprehension.\n",
      "\n",
      "2. Time Period Analysis: The documents analyze the performance of various sectors and products over different time periods, including quarterly and yearly comparisons. This allows for tracking trends and changes in the market.\n",
      "\n",
      "3. QoQ and YoY Comparison: The documents frequently use the concepts of quarter-on-quarter (QoQ) and year-on-year (YoY) comparisons to assess growth rates and performance fluctuations.\n",
      "\n",
      "4. Investment Recommendations: The documents include investment recommendations for specific companies or sectors, along with target prices. These recommendations are subject to change based on market conditions.\n",
      "\n",
      "5. Currency Exchange Rates: The documents provide information on the Korean won to US dollar exchange rates, which may impact the financial performance of the companies analyzed.\n",
      "\n",
      "6. Disclaimers: Each document includes disclaimers stating that the information provided is based on reliable sources but does not guarantee accuracy or completeness. It also emphasizes that investment decisions should be made at the investor's own discretion.\n",
      "\n",
      "Overall, the documents provide comprehensive financial analysis and insights into the performance of various industries and companies. They follow a consistent format and provide detailed data for investors and analysts to make informed decisions.\u001b[0m\n",
      "Thought:\u001b[32;1m\u001b[1;3mI now know the final answer\n",
      "Final Answer: The common characteristics of the documents uploaded are as follows:\n",
      "\n",
      "1. Data Presentation: The documents provide quantitative data in the form of percentages, quantities, average selling prices (ASP), and cost figures. The data is often presented in tables and charts for easy comprehension.\n",
      "\n",
      "2. Time Period Analysis: The documents analyze the performance of various sectors and products over different time periods, including quarterly and yearly comparisons. This allows for tracking trends and changes in the market.\n",
      "\n",
      "3. QoQ and YoY Comparison: The documents frequently use the concepts of quarter-on-quarter (QoQ) and year-on-year (YoY) comparisons to assess growth rates and performance fluctuations.\n",
      "\n",
      "4. Investment Recommendations: The documents include investment recommendations for specific companies or sectors, along with target prices. These recommendations are subject to change based on market conditions.\n",
      "\n",
      "5. Currency Exchange Rates: The documents provide information on the Korean won to US dollar exchange rates, which may impact the financial performance of the companies analyzed.\n",
      "\n",
      "6. Disclaimers: Each document includes disclaimers stating that the information provided is based on reliable sources but does not guarantee accuracy or completeness. It also emphasizes that investment decisions should be made at the investor's own discretion.\n",
      "\n",
      "Overall, the documents provide comprehensive financial analysis and insights into the performance of various industries and companies. They follow a consistent format and provide detailed data for investors and analysts to make informed decisions.\u001b[0m\n",
      "\n",
      "\u001b[1m> Finished chain.\u001b[0m\n"
     ]
    },
    {
     "data": {
      "text/plain": [
       "\"The common characteristics of the documents uploaded are as follows:\\n\\n1. Data Presentation: The documents provide quantitative data in the form of percentages, quantities, average selling prices (ASP), and cost figures. The data is often presented in tables and charts for easy comprehension.\\n\\n2. Time Period Analysis: The documents analyze the performance of various sectors and products over different time periods, including quarterly and yearly comparisons. This allows for tracking trends and changes in the market.\\n\\n3. QoQ and YoY Comparison: The documents frequently use the concepts of quarter-on-quarter (QoQ) and year-on-year (YoY) comparisons to assess growth rates and performance fluctuations.\\n\\n4. Investment Recommendations: The documents include investment recommendations for specific companies or sectors, along with target prices. These recommendations are subject to change based on market conditions.\\n\\n5. Currency Exchange Rates: The documents provide information on the Korean won to US dollar exchange rates, which may impact the financial performance of the companies analyzed.\\n\\n6. Disclaimers: Each document includes disclaimers stating that the information provided is based on reliable sources but does not guarantee accuracy or completeness. It also emphasizes that investment decisions should be made at the investor's own discretion.\\n\\nOverall, the documents provide comprehensive financial analysis and insights into the performance of various industries and companies. They follow a consistent format and provide detailed data for investors and analysts to make informed decisions.\""
      ]
     },
     "execution_count": 80,
     "metadata": {},
     "output_type": "execute_result"
    }
   ],
   "source": [
    "# Generate the stock ticker symbol using LLM\n",
    "#search = TavilySearchAPIWrapper()\n",
    "#tavily_tool = TavilySearchResults(api_wrapper=search, max_results=5)\n",
    "tools = [\n",
    "#    Tool(\n",
    "#        name=\"Search\",\n",
    "#        func=tavily_tool.run,\n",
    "#        description=\"useful for getting ticker\"\n",
    "#    ),\n",
    "    Tool(\n",
    "        name = \"Document Store\",\n",
    "        func = llm_papers.run,\n",
    "        description = \"Use it to lookup information from document uploaded from pdfs \\\n",
    "                        Use it more than the normal search if the question is relevant to pdf\",\n",
    "#        handle_tool_error=True\n",
    "    ),\n",
    "]\n",
    "llm = ChatOpenAI(model=\"gpt-4\", temperature=0, openai_api_key=\"\")\n",
    "\n",
    "document_agent = initialize_agent(tools=tools,\n",
    "                  llm=llm,\n",
    "                  agent=AgentType.ZERO_SHOT_REACT_DESCRIPTION, verbose=True)\n",
    "\n",
    "document_agent.run(f'please return me the common characteristics or layout of documents uploaded,\\\n",
    "                   this could be anything such as target price, stock name is always followed by its ticker\\\n",
    "                    and so forth.')"
   ]
  },
  {
   "cell_type": "code",
   "execution_count": null,
   "metadata": {},
   "outputs": [],
   "source": []
  }
 ],
 "metadata": {
  "kernelspec": {
   "display_name": "base",
   "language": "python",
   "name": "python3"
  },
  "language_info": {
   "codemirror_mode": {
    "name": "ipython",
    "version": 3
   },
   "file_extension": ".py",
   "mimetype": "text/x-python",
   "name": "python",
   "nbconvert_exporter": "python",
   "pygments_lexer": "ipython3",
   "version": "3.11.5"
  }
 },
 "nbformat": 4,
 "nbformat_minor": 2
}
