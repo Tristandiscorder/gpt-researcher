{
 "cells": [
  {
   "cell_type": "markdown",
   "metadata": {},
   "source": [
    "# Yfinance_Usecase \n",
    "- developing python definition funneled into langchain tool thus to be selected  "
   ]
  },
  {
   "cell_type": "code",
   "execution_count": 27,
   "metadata": {},
   "outputs": [],
   "source": [
    "from typing import Type\n",
    "from langchain.llms import OpenAI\n",
    "from langchain.tools import BaseTool\n",
    "from pydantic import BaseModel, Field\n",
    "\n",
    "from datetime import datetime, timedelta\n",
    "\n",
    "import yfinance as yf"
   ]
  },
  {
   "cell_type": "code",
   "execution_count": 38,
   "metadata": {},
   "outputs": [],
   "source": [
    "def get_current_stock_price(ticker):\n",
    "    \"\"\"Method to get current stock price\"\"\"\n",
    "\n",
    "    ticker_data = yf.Ticker(ticker)\n",
    "    recent = ticker_data.history(period=\"6m\")\n",
    "    return {\"price\": recent.iloc[0][\"Close\"], \\\n",
    "            #\"currency\": ticker_data.info[\"currency\"]\n",
    "            }\n",
    "\n",
    "def get_stock_performance(ticker, past_date):\n",
    "    \"\"\"Method to get stock price change in percentage\"\"\"\n",
    "    \n",
    "    ticker_data = yf.Ticker(ticker)\n",
    "    history = ticker_data.history(start=past_date)\n",
    "    old_price = history.iloc[0][\"Close\"]\n",
    "    current_price = history.iloc[-1][\"Close\"]\n",
    "    return {\"percent_change\": ((current_price - old_price) / old_price) * 100}\n",
    "\n",
    "class CurrentStockPriceInput(BaseModel):\n",
    "    \"\"\"Inputs for get_current_stock_price\"\"\"\n",
    "\n",
    "    ticker: str = Field(description=\"Ticker symbol of the stock\")\n",
    "\n",
    "\n",
    "class CurrentStockPriceTool(BaseTool):\n",
    "    name = \"get_current_stock_price\"\n",
    "    description = \"\"\"\n",
    "        Useful when you want to get current stock price.\n",
    "        You should enter the stock ticker symbol recognized by the yahoo finance\n",
    "        \"\"\"\n",
    "    args_schema: Type[BaseModel] = CurrentStockPriceInput\n",
    "\n",
    "    def _run(self, ticker: str):\n",
    "        price_response = get_current_stock_price(ticker)\n",
    "        return price_response\n",
    "\n",
    "    def _arun(self, ticker: str):\n",
    "        raise NotImplementedError(\"get_current_stock_price does not support async\")\n",
    "\n"
   ]
  },
  {
   "cell_type": "code",
   "execution_count": 39,
   "metadata": {},
   "outputs": [],
   "source": [
    "class StockPerformanceInput(BaseModel):\n",
    "    \"\"\"Inputs for get_stock_performance\"\"\"\n",
    "\n",
    "    ticker: str = Field(description=\"Ticker symbol of the stock\")\n",
    "    past_date: str = Field(description=\"past_date asked to compare the price for the stock\")\n",
    "\n",
    "\n",
    "class StockPerformanceTool(BaseTool):\n",
    "    name = \"get_stock_performance\"\n",
    "    description = \"\"\"\n",
    "        Useful when you want to get the stock performance over the given period.\n",
    "        You should enter the stock ticker symbol recognized by the yahoo finance\n",
    "        \"\"\"\n",
    "    args_schema: Type[BaseModel] = StockPerformanceInput\n",
    "\n",
    "    def _run(self, ticker: str , past_date: str):\n",
    "        performance_response = get_stock_performance(ticker,past_date)\n",
    "        return performance_response\n",
    "\n",
    "    def _arun(self, ticker: str , past_date: str):\n",
    "        raise NotImplementedError(\"get_stock_performance does not support async\")"
   ]
  },
  {
   "cell_type": "code",
   "execution_count": 40,
   "metadata": {},
   "outputs": [],
   "source": [
    "from langchain.agents import AgentType, initialize_agent, Tool\n",
    "from langchain.chat_models import ChatOpenAI\n",
    "from langchain.llms import OpenAI\n",
    "from langchain.tools.tavily_search import TavilySearchResults\n",
    "from langchain.utilities.tavily_search import TavilySearchAPIWrapper"
   ]
  },
  {
   "cell_type": "code",
   "execution_count": 41,
   "metadata": {},
   "outputs": [
    {
     "data": {
      "text/plain": [
       "True"
      ]
     },
     "execution_count": 41,
     "metadata": {},
     "output_type": "execute_result"
    }
   ],
   "source": [
    "from dotenv import load_dotenv\n",
    "load_dotenv()"
   ]
  },
  {
   "cell_type": "code",
   "execution_count": 42,
   "metadata": {},
   "outputs": [
    {
     "name": "stdout",
     "output_type": "stream",
     "text": [
      "\n",
      "\n",
      "\u001b[1m> Entering new AgentExecutor chain...\u001b[0m\n",
      "\u001b[32;1m\u001b[1;3mThought: First, I need to find the ticker symbol for Ecopro on the KOSDAQ. I will use the Search tool for this. \n",
      "Action:\n",
      "```\n",
      "{\n",
      "  \"action\": \"Search\",\n",
      "  \"action_input\": \"Ecopro KOSDAQ ticker symbol\"\n",
      "}\n",
      "```\u001b[0m\n",
      "Observation: \u001b[38;5;200m\u001b[1;3m[{'url': 'https://finance.yahoo.com/quote/086520.KQ/', 'content': \"Ecopro Co., Ltd. (086520.KQ) Subscribe to Yahoo Finance Plus to view Fair Value for 086520.KQ  Ecopro Materials eyes $498 million in potentially largest South Korean IPO since early 2022  Ecopro, Samsung Ink Massive $34 Billion Battery Deal Despite EV Slump  South Korea's Ecopro Materials, a battery materials producer, is gearing up for what could be the country's largestFind the latest Ecopro Co., Ltd. (086520.KQ) stock quote, history, news and other vital information to help you with your stock trading and investing.\"}, {'url': 'https://uk.finance.yahoo.com/quote/086520.KQ/', 'content': \"You might not be getting everything you're entitled to — this is what you need to check Ecopro Co., Ltd. (086520.KQ)  Ecopro Materials eyes $498 million in potentially largest South Korean IPO since early 2022  Ecopro, Samsung Ink Massive $34 Billion Battery Deal Despite EV Slump  South Korea's Ecopro Materials, a battery materials producer, is gearing up for what could be the country's largestFind the latest Ecopro Co., Ltd. (086520.KQ) stock quote, history, news and other vital information to help you with your stock trading and investing. ... KOSDAQ - KOSDAQ Delayed price. Currency in KRW. Add to watchlist. 703,000.00 +3,000.00 ... South Korea's Ecopro Materials, a battery materials producer, is gearing up for what could be the ...\"}, {'url': 'https://www.bloomberg.com/quote/086520:KS', 'content': 'www.ecopro.co.kr Income Statement Annual Balance Sheet Overview Key Statistics  Crypto Bitcoin’s Largest Decline in Four Months Frays Startling Rally Ecopro Co Ltd086520:KS Overview Key Statistics  Ecopro Co., Ltd. specializes in developing chemical absorbent and NDC (Nano Carbon Ball) in the field of environmental  Equality Young Investors’ Support for ESG Causes Declines in 2023 ‘Gut Check’ Featured GreenStock analysis for Ecopro Co Ltd (086520:KOSDAQ) including stock price, stock chart, company news, key statistics, fundamentals and company profile.'}]\u001b[0m\n",
      "Thought:\u001b[32;1m\u001b[1;3mThe ticker symbol for Ecopro on the KOSDAQ is 086520.KQ. Now, I will use the get_current_stock_price tool to find the latest trading day stock price for Ecopro.\n",
      "Action:\n",
      "```\n",
      "{\n",
      "  \"action\": \"get_current_stock_price\",\n",
      "  \"action_input\": {\n",
      "    \"ticker\": \"086520.KQ\"\n",
      "  }\n",
      "}\n",
      "```\u001b[0m\n",
      "Observation: \u001b[36;1m\u001b[1;3m{'price': 660000.0}\u001b[0m\n",
      "Thought:\u001b[32;1m\u001b[1;3mThe latest trading day stock price for Ecopro is 660,000 KRW. Now, I need to find the date when Korea totally banned short-selling. I will use the Search tool for this. \n",
      "Action:\n",
      "```\n",
      "{\n",
      "  \"action\": \"Search\",\n",
      "  \"action_input\": \"date Korea banned short-selling\"\n",
      "}\n",
      "```\u001b[0m\n",
      "Observation: \u001b[38;5;200m\u001b[1;3m[{'url': 'https://www.investopedia.com/how-does-south-koreas-short-selling-ban-affect-us-investors-8391133', 'content': 'Citing instances of illegal “naked” short selling, South Korea banned short selling through June 2024  The South Korean Financial Services Commission said that it had found a number of cases of illegal naked short selling  How Does South Korea\\'s Short Selling Ban Affect US Investors?  Bloomberg. “South Korea Plans to Fine Two Global Investment Banks for Naked Short Selling.”South Korean regulators banned short-selling in stocks through June 2024 Ban is in place after regulators found \"routine\" abuse of so-called naked short selling from foreign and...'}, {'url': 'https://www.cnbc.com/2023/11/06/asia-stock-markets-live-updates.html', 'content': 'Click here to read the full story. â€” Shreyashi Sanyal South Korea stocks surge after temporary ban on short selling  ETFs Bonds South Korea stocks surge more than 5% for best session since March 2020 after short-selling ban  South Korea stocks surged on Monday after the country re-imposed a ban on short selling, while most Asia-Pacific  billion) during the period, with year-to-date volume reaching 7.3 trillion South Korean won, the report said.South Korea stocks surged on Monday after the country re-imposed a ban on short selling, while most Asia-Pacific markets took heart from a soft U.S. jobs report that helped reduce interest...'}, {'url': 'https://www.bloomberg.com/news/articles/2023-12-12/short-selling-ban-curbs-foreign-investor-stock-trading-in-korea', 'content': \"Foreign Hedge Funds Retreat From Korea After Short Sale Ban  since the surprise return of a ban on short selling.  funds’ share of turnover also dipped while retail investors have extended their dominance of Korean trading.  Participation by global funds in trading in South Korea’s $1.8 trillion stock market has declined since the surpriseParticipation by global funds in trading in South Korea's $1.8 trillion stock market has declined since the surprise return of a ban on short selling. Foreign investors have accounted for 18%...\"}, {'url': 'https://www.bloomberg.com/news/articles/2023-11-23/what-is-short-selling-stock-and-why-did-south-korea-ban-it', 'content': \"Why South Korea Is At War With Short Sellers, Again  Short sellers are facing the heat in South Korea again after regulators reimposed a full ban on the practice of selling  trading practices that could erode public trust in markets. While South Korean shares rallied after the ban, the gains  practice of selling borrowed shares. Their goal is to stop big investment banks engaging in illicit trading practicesOn Nov. 5, the country's Financial Services Commission reimposed the blanket ban on all short selling until June 30, 2024. The restriction didn't apply to existing positions, so investors were...\"}]\u001b[0m\n",
      "Thought:\u001b[32;1m\u001b[1;3mSouth Korea reimposed a full ban on short selling on November 5, 2023. Now, I will use the get_stock_performance tool to find the performance of Ecopro since the ban.\n",
      "Action:\n",
      "```\n",
      "{\n",
      "  \"action\": \"get_stock_performance\",\n",
      "  \"action_input\": {\n",
      "    \"ticker\": \"086520.KQ\",\n",
      "    \"past_date\": \"2023-11-05\"\n",
      "  }\n",
      "}\n",
      "```\n",
      "\u001b[0m\n",
      "Observation: \u001b[33;1m\u001b[1;3m{'percent_change': -20.28985507246377}\u001b[0m\n",
      "Thought:\u001b[32;1m\u001b[1;3mThe performance of Ecopro since the ban on short selling in South Korea has decreased by approximately 20.29%. Now, I can provide the final answer to the user. \n",
      "Action:\n",
      "```\n",
      "{\n",
      "  \"action\": \"Final Answer\",\n",
      "  \"action_input\": \"1. The latest trading day stock price for Ecopro (KOSDAQ: 086520.KQ) is 660,000 KRW. 2. South Korea totally banned short-selling on November 5, 2023. 3. Since the ban, the performance of Ecopro has decreased by approximately 20.29%.\"\n",
      "}\n",
      "```\u001b[0m\n",
      "\n",
      "\u001b[1m> Finished chain.\u001b[0m\n"
     ]
    },
    {
     "data": {
      "text/plain": [
       "'1. The latest trading day stock price for Ecopro (KOSDAQ: 086520.KQ) is 660,000 KRW. 2. South Korea totally banned short-selling on November 5, 2023. 3. Since the ban, the performance of Ecopro has decreased by approximately 20.29%.'"
      ]
     },
     "execution_count": 42,
     "metadata": {},
     "output_type": "execute_result"
    }
   ],
   "source": [
    "llm = ChatOpenAI(model=\"gpt-4\", temperature=0, openai_api_key=\"\")\n",
    "search = TavilySearchAPIWrapper()\n",
    "tavily_tool = TavilySearchResults(api_wrapper=search, max_results=10)\n",
    "tools = [CurrentStockPriceTool(),StockPerformanceTool(),\n",
    "         Tool(\n",
    "        name=\"Search\",\n",
    "        func=tavily_tool.run,\n",
    "        description=\"useful for when you need to get ticker and current event about the stock in question\"\n",
    "    )]\n",
    "agent = initialize_agent(tools=tools,\n",
    "                          llm=llm,\n",
    "                          agent=AgentType.STRUCTURED_CHAT_ZERO_SHOT_REACT_DESCRIPTION, verbose=True)\n",
    "#(최근 거래가, 공매도일자, 수익률)\n",
    "agent.run(\"get me 3 data \\\n",
    "          [1. the latest trading day stock price of Ecopro(KOSDAQ),\\\n",
    "           2. the date in which Korea totally banned short-selling,\\\n",
    "           3. its performance since the ban].\\n\"\n",
    "          \"Do not assume any random dates if the article searched doesn't say about it, you can tell me\\\n",
    "            that article's release date and ultimately the performance since then\")"
   ]
  },
  {
   "cell_type": "code",
   "execution_count": 47,
   "metadata": {},
   "outputs": [],
   "source": [
    "llm = ChatOpenAI(model=\"gpt-4\", temperature=0, openai_api_key=\"\")\n",
    "tavily_tool = TavilySearchResults(api_wrapper=search, max_results=3)\n",
    "tools = [Tool(\n",
    "        name=\"Search\",\n",
    "        func=tavily_tool.run,\n",
    "        description=\"useful for when you need to get ticker\"\n",
    "    )\n",
    "]\n",
    "\n",
    "ticker_agent = initialize_agent(tools=tools,\n",
    "                          llm=llm,\n",
    "                          agent=AgentType.OPENAI_FUNCTIONS, verbose=True)"
   ]
  },
  {
   "cell_type": "code",
   "execution_count": 48,
   "metadata": {},
   "outputs": [
    {
     "name": "stdout",
     "output_type": "stream",
     "text": [
      "\n",
      "\n",
      "\u001b[1m> Entering new AgentExecutor chain...\u001b[0m\n",
      "\u001b[32;1m\u001b[1;3m\n",
      "Invoking: `Search` with `Ecopro(KOSDAQ)`\n",
      "\n",
      "\n",
      "\u001b[0m\u001b[36;1m\u001b[1;3m[{'url': 'https://koreajoongangdaily.joins.com/2023/04/20/business/industry/Korea-ecopro-ecopro-bm/20230420174402783.html', 'content': \"korea joongAng daily Home > Business > Industry [NEWS IN FOCUS] EcoPro stocks skyrocket, but some analysts spooked  EcoPro BM officials celebrate the company's public listing in March 2019 at Korea Exchange headquarters in Yeouido,  Climbing higher The price is right, EcoPro Materials CEO says ahead of IPO  EcoPro BM's building in Pohang, North Gyeongsang [YONHAP]EcoPro, a chemicals group that owns a battery materials unit, soared almost 500 percent in the first four months on the Kosdaq stock market, prompting investors and analysts to scrutinize the company. Solid demand and optimism for electric vehicles are major factors driving up the stock, but the breakneck rally has some analysts worried.\"}, {'url': 'https://finance.yahoo.com/quote/086520.KQ/', 'content': \"Ecopro Co., Ltd. (086520.KQ) Subscribe to Yahoo Finance Plus to view Fair Value for 086520.KQ  Ecopro Materials eyes $498 million in potentially largest South Korean IPO since early 2022  Ecopro, Samsung Ink Massive $34 Billion Battery Deal Despite EV Slump  South Korea's Ecopro Materials, a battery materials producer, is gearing up for what could be the country's largestFind the latest Ecopro Co., Ltd. (086520.KQ) stock quote, history, news and other vital information to help you with your stock trading and investing.\"}, {'url': 'https://fortune.com/2023/09/07/lee-dong-chae-ecopro-co-founder-fortune-rises-ev-rally-despite-south-korea-imprisonment/', 'content': \"Retail investors, buoyed by a continued focus on EV introduction into the mainstream, have similarly piled into Ecopro  Ecopro’s success has been a melting pot of factors: timing, retail investors, and a new focus on compliance.  piled into Ecopro as a key component maker for such vehicles.  told Bloomberg that Ecopro stock may have become overheated as a result.The South Korean billionaire—who launched battery material producer Ecopro in 1998 —is currently serving a two-year sentence accused of violating the country's capital market act. According to...\"}]\u001b[0m\u001b[32;1m\u001b[1;3m086520.KQ\u001b[0m\n",
      "\n",
      "\u001b[1m> Finished chain.\u001b[0m\n"
     ]
    }
   ],
   "source": [
    "ticker= ticker_agent.run(\"get me the ticker for Ecopro(KOSDAQ), you should return only ticker, no strings attached\")"
   ]
  },
  {
   "cell_type": "code",
   "execution_count": 49,
   "metadata": {},
   "outputs": [
    {
     "data": {
      "text/plain": [
       "'086520.KQ'"
      ]
     },
     "execution_count": 49,
     "metadata": {},
     "output_type": "execute_result"
    }
   ],
   "source": [
    "ticker"
   ]
  }
 ],
 "metadata": {
  "kernelspec": {
   "display_name": "base",
   "language": "python",
   "name": "python3"
  },
  "language_info": {
   "codemirror_mode": {
    "name": "ipython",
    "version": 3
   },
   "file_extension": ".py",
   "mimetype": "text/x-python",
   "name": "python",
   "nbconvert_exporter": "python",
   "pygments_lexer": "ipython3",
   "version": "3.11.5"
  }
 },
 "nbformat": 4,
 "nbformat_minor": 2
}
